{
 "cells": [
  {
   "cell_type": "code",
   "execution_count": 1,
   "id": "63f8fd4d",
   "metadata": {
    "_cell_guid": "b1076dfc-b9ad-4769-8c92-a6c4dae69d19",
    "_uuid": "8f2839f25d086af736a60e9eeb907d3b93b6e0e5",
    "execution": {
     "iopub.execute_input": "2025-09-04T02:24:57.437460Z",
     "iopub.status.busy": "2025-09-04T02:24:57.437141Z",
     "iopub.status.idle": "2025-09-04T02:25:03.327436Z",
     "shell.execute_reply": "2025-09-04T02:25:03.326327Z"
    },
    "papermill": {
     "duration": 5.896467,
     "end_time": "2025-09-04T02:25:03.329183",
     "exception": false,
     "start_time": "2025-09-04T02:24:57.432716",
     "status": "completed"
    },
    "tags": []
   },
   "outputs": [
    {
     "name": "stdout",
     "output_type": "stream",
     "text": [
      "Path to dataset files: /kaggle/input/creditcardfraud\n",
      "   Time        V1        V2        V3        V4        V5        V6        V7  \\\n",
      "0   0.0 -1.359807 -0.072781  2.536347  1.378155 -0.338321  0.462388  0.239599   \n",
      "1   0.0  1.191857  0.266151  0.166480  0.448154  0.060018 -0.082361 -0.078803   \n",
      "2   1.0 -1.358354 -1.340163  1.773209  0.379780 -0.503198  1.800499  0.791461   \n",
      "3   1.0 -0.966272 -0.185226  1.792993 -0.863291 -0.010309  1.247203  0.237609   \n",
      "4   2.0 -1.158233  0.877737  1.548718  0.403034 -0.407193  0.095921  0.592941   \n",
      "\n",
      "         V8        V9  ...       V21       V22       V23       V24       V25  \\\n",
      "0  0.098698  0.363787  ... -0.018307  0.277838 -0.110474  0.066928  0.128539   \n",
      "1  0.085102 -0.255425  ... -0.225775 -0.638672  0.101288 -0.339846  0.167170   \n",
      "2  0.247676 -1.514654  ...  0.247998  0.771679  0.909412 -0.689281 -0.327642   \n",
      "3  0.377436 -1.387024  ... -0.108300  0.005274 -0.190321 -1.175575  0.647376   \n",
      "4 -0.270533  0.817739  ... -0.009431  0.798278 -0.137458  0.141267 -0.206010   \n",
      "\n",
      "        V26       V27       V28  Amount  Class  \n",
      "0 -0.189115  0.133558 -0.021053  149.62      0  \n",
      "1  0.125895 -0.008983  0.014724    2.69      0  \n",
      "2 -0.139097 -0.055353 -0.059752  378.66      0  \n",
      "3 -0.221929  0.062723  0.061458  123.50      0  \n",
      "4  0.502292  0.219422  0.215153   69.99      0  \n",
      "\n",
      "[5 rows x 31 columns]\n"
     ]
    }
   ],
   "source": [
    "import kagglehub\n",
    "import pandas as pd\n",
    "import os\n",
    "import numpy as np\n",
    "\n",
    "# Download latest version\n",
    "path = kagglehub.dataset_download(\"mlg-ulb/creditcardfraud\")\n",
    "print(\"Path to dataset files:\", path)\n",
    "\n",
    "# Build the full file path\n",
    "file_path = os.path.join(path, \"creditcard.csv\")\n",
    "\n",
    "# Load dataset into pandas\n",
    "df = pd.read_csv(file_path)\n",
    "print(df.head())"
   ]
  },
  {
   "cell_type": "code",
   "execution_count": 2,
   "id": "dc68a0cb",
   "metadata": {
    "execution": {
     "iopub.execute_input": "2025-09-04T02:25:03.336677Z",
     "iopub.status.busy": "2025-09-04T02:25:03.336300Z",
     "iopub.status.idle": "2025-09-04T02:25:03.374698Z",
     "shell.execute_reply": "2025-09-04T02:25:03.373534Z"
    },
    "papermill": {
     "duration": 0.043886,
     "end_time": "2025-09-04T02:25:03.376450",
     "exception": false,
     "start_time": "2025-09-04T02:25:03.332564",
     "status": "completed"
    },
    "tags": []
   },
   "outputs": [],
   "source": [
    "#Setting up the X and y values\n",
    "X = df.drop(\"Class\", axis=1)\n",
    "y = df[\"Class\"]"
   ]
  },
  {
   "cell_type": "code",
   "execution_count": 3,
   "id": "32856bfb",
   "metadata": {
    "execution": {
     "iopub.execute_input": "2025-09-04T02:25:03.383392Z",
     "iopub.status.busy": "2025-09-04T02:25:03.383079Z",
     "iopub.status.idle": "2025-09-04T02:25:03.397273Z",
     "shell.execute_reply": "2025-09-04T02:25:03.396111Z"
    },
    "papermill": {
     "duration": 0.019494,
     "end_time": "2025-09-04T02:25:03.398940",
     "exception": false,
     "start_time": "2025-09-04T02:25:03.379446",
     "status": "completed"
    },
    "tags": []
   },
   "outputs": [
    {
     "name": "stdout",
     "output_type": "stream",
     "text": [
      "   Time        V1        V2        V3        V4        V5        V6        V7  \\\n",
      "0   0.0 -1.359807 -0.072781  2.536347  1.378155 -0.338321  0.462388  0.239599   \n",
      "1   0.0  1.191857  0.266151  0.166480  0.448154  0.060018 -0.082361 -0.078803   \n",
      "2   1.0 -1.358354 -1.340163  1.773209  0.379780 -0.503198  1.800499  0.791461   \n",
      "3   1.0 -0.966272 -0.185226  1.792993 -0.863291 -0.010309  1.247203  0.237609   \n",
      "4   2.0 -1.158233  0.877737  1.548718  0.403034 -0.407193  0.095921  0.592941   \n",
      "\n",
      "         V8        V9  ...       V20       V21       V22       V23       V24  \\\n",
      "0  0.098698  0.363787  ...  0.251412 -0.018307  0.277838 -0.110474  0.066928   \n",
      "1  0.085102 -0.255425  ... -0.069083 -0.225775 -0.638672  0.101288 -0.339846   \n",
      "2  0.247676 -1.514654  ...  0.524980  0.247998  0.771679  0.909412 -0.689281   \n",
      "3  0.377436 -1.387024  ... -0.208038 -0.108300  0.005274 -0.190321 -1.175575   \n",
      "4 -0.270533  0.817739  ...  0.408542 -0.009431  0.798278 -0.137458  0.141267   \n",
      "\n",
      "        V25       V26       V27       V28  Amount  \n",
      "0  0.128539 -0.189115  0.133558 -0.021053  149.62  \n",
      "1  0.167170  0.125895 -0.008983  0.014724    2.69  \n",
      "2 -0.327642 -0.139097 -0.055353 -0.059752  378.66  \n",
      "3  0.647376 -0.221929  0.062723  0.061458  123.50  \n",
      "4 -0.206010  0.502292  0.219422  0.215153   69.99  \n",
      "\n",
      "[5 rows x 30 columns] 0    0\n",
      "1    0\n",
      "2    0\n",
      "3    0\n",
      "4    0\n",
      "Name: Class, dtype: int64\n",
      "(284807, 30) (284807,)\n"
     ]
    }
   ],
   "source": [
    "print(X.head(), y.head())\n",
    "print(X.shape, y.shape)"
   ]
  },
  {
   "cell_type": "code",
   "execution_count": 4,
   "id": "e12162e5",
   "metadata": {
    "execution": {
     "iopub.execute_input": "2025-09-04T02:25:03.406025Z",
     "iopub.status.busy": "2025-09-04T02:25:03.405399Z",
     "iopub.status.idle": "2025-09-04T02:25:08.265943Z",
     "shell.execute_reply": "2025-09-04T02:25:08.264887Z"
    },
    "papermill": {
     "duration": 4.86589,
     "end_time": "2025-09-04T02:25:08.267679",
     "exception": false,
     "start_time": "2025-09-04T02:25:03.401789",
     "status": "completed"
    },
    "tags": []
   },
   "outputs": [
    {
     "name": "stdout",
     "output_type": "stream",
     "text": [
      "            Time        V1        V2        V3        V4        V5        V6  \\\n",
      "223361  143352.0  1.955041 -0.380783 -0.315013  0.330155 -0.509374 -0.086197   \n",
      "165061  117173.0 -0.400975 -0.626943  1.555339 -2.017772 -0.107769  0.168310   \n",
      "238186  149565.0  0.072509  0.820566 -0.561351 -0.709897  1.080399 -0.359429   \n",
      "150562   93670.0 -0.535045  1.014587  1.750679  2.769390  0.500089  1.002270   \n",
      "138452   82655.0 -4.026938  1.897371 -0.429786 -0.029571 -0.855751 -0.480406   \n",
      "\n",
      "              V7        V8        V9  ...       V20       V21       V22  \\\n",
      "223361 -0.627978  0.035994  1.054560  ... -0.125390  0.238197  0.968305   \n",
      "165061  0.017959 -0.401619  0.040378  ... -0.470372 -0.153485  0.421703   \n",
      "238186  0.787858  0.117276 -0.131275  ...  0.012227 -0.314638 -0.872959   \n",
      "150562  0.847902 -0.081323  0.371579  ... -0.253757  0.063525  0.443431   \n",
      "138452 -0.435632  1.313760  0.536044  ... -0.012320 -0.480691 -0.230369   \n",
      "\n",
      "             V23       V24       V25       V26       V27       V28  Amount  \n",
      "223361  0.053208 -0.278602 -0.044999 -0.216780  0.045168 -0.047145    9.99  \n",
      "165061  0.113442 -1.004095 -1.176695  0.361924 -0.370469 -0.144792   45.90  \n",
      "238186  0.083391  0.148178 -0.431459  0.119690  0.206395  0.070288   11.99  \n",
      "150562 -0.072754  0.448192 -0.655203 -0.181038 -0.093013 -0.064931  117.44  \n",
      "138452  0.250717  0.066399  0.470787  0.245335  0.286904 -0.322672   25.76  \n",
      "\n",
      "[5 rows x 30 columns] 223361    0\n",
      "165061    0\n",
      "238186    0\n",
      "150562    0\n",
      "138452    0\n",
      "Name: Class, dtype: int64\n",
      "99.95611109160492 %\n"
     ]
    }
   ],
   "source": [
    "import xgboost as xgb\n",
    "from sklearn.model_selection import train_test_split\n",
    "from sklearn import metrics\n",
    "from sklearn.model_selection import StratifiedKFold, cross_val_score\n",
    "\n",
    "#Spliting the Data into Testing and Training Sets\n",
    "X_train, X_test, y_train, y_test = train_test_split(X, y, test_size=0.2, random_state=42)\n",
    "\n",
    "#Setting up the Parameters\n",
    "param = {\n",
    "\n",
    "    'objective': 'binary:logistic',\n",
    "    'eval_metric': 'auc',\n",
    "    'eta': 0.4,\n",
    "    'max_depth': 5,\n",
    "    'subsample': 0.8,\n",
    "    'colsample_bytree': 0.8,\n",
    "    'seed': 37,\n",
    "    'scale_pos_weight': 577\n",
    "\n",
    "}\n",
    "\n",
    "#Printing a snipit of the X_train and y_train\n",
    "print(X_train.head(), y_train.head())\n",
    "\n",
    "#Selecting the Classification model of XGBoost\n",
    "model = xgb.XGBClassifier(**param)\n",
    "model.fit(X_train, y_train)\n",
    "y_pred = model.predict(X_test)\n",
    "\n",
    "print(metrics.accuracy_score(y_test, y_pred) * 100, '%')"
   ]
  },
  {
   "cell_type": "code",
   "execution_count": 5,
   "id": "ae227993",
   "metadata": {
    "execution": {
     "iopub.execute_input": "2025-09-04T02:25:08.275262Z",
     "iopub.status.busy": "2025-09-04T02:25:08.274828Z",
     "iopub.status.idle": "2025-09-04T02:25:08.353115Z",
     "shell.execute_reply": "2025-09-04T02:25:08.351977Z"
    },
    "papermill": {
     "duration": 0.084031,
     "end_time": "2025-09-04T02:25:08.354933",
     "exception": false,
     "start_time": "2025-09-04T02:25:08.270902",
     "status": "completed"
    },
    "tags": []
   },
   "outputs": [
    {
     "name": "stdout",
     "output_type": "stream",
     "text": [
      "            Time         V1        V2         V3        V4         V5  \\\n",
      "43428    41505.0 -16.526507  8.584972 -18.649853  9.505594 -13.793819   \n",
      "116404   74262.0  -2.250535  2.365755  -2.955491  0.089791  -2.830745   \n",
      "215984  140308.0  -4.861747 -2.722660  -4.656248  2.502005  -2.008346   \n",
      "249239  154309.0  -0.082983 -3.935919  -2.616709  0.163310  -1.400952   \n",
      "146790   87883.0  -1.360293 -0.458069  -0.700404  2.737229  -1.005106   \n",
      "\n",
      "              V6         V7        V8        V9  ...       V20       V21  \\\n",
      "43428  -2.832404 -16.701694  7.517344 -8.507059  ... -1.514923  1.190739   \n",
      "116404 -0.844462  -0.174062 -0.407138  0.174216  ... -0.486537  0.256560   \n",
      "215984  0.615422  -3.485680  1.878856 -1.116268  ...  0.285559  1.138876   \n",
      "249239 -0.809419   1.501580 -0.471000  1.519743  ...  1.878612  0.702672   \n",
      "146790  2.891399   5.802537 -1.933197 -1.017717  ... -1.493401 -0.936990   \n",
      "\n",
      "             V22       V23       V24       V25       V26       V27       V28  \\\n",
      "43428  -1.127670 -2.358579  0.673461 -1.413700 -0.462762 -2.018575 -1.042804   \n",
      "116404 -0.466245  0.291105  0.242567 -1.279094 -1.123534 -0.630977  0.326839   \n",
      "215984  1.033664 -0.806199 -1.511046 -0.191731  0.080999  1.215152 -0.923142   \n",
      "249239 -0.182305 -0.921017  0.111635 -0.071622 -1.125881 -0.170947  0.126221   \n",
      "146790 -0.053812  0.580106  0.216927  0.151643 -0.332115 -0.469800 -1.495006   \n",
      "\n",
      "         Amount  \n",
      "43428    364.19  \n",
      "116404   311.28  \n",
      "215984   592.90  \n",
      "249239  1096.99  \n",
      "146790   829.41  \n",
      "\n",
      "[5 rows x 30 columns] 43428     1\n",
      "116404    1\n",
      "215984    1\n",
      "249239    1\n",
      "146790    1\n",
      "Name: Class, dtype: int64\n",
      "Fraud-only detection rate: 82.6530612244898 %\n",
      "Precision: 0.9101123595505618\n",
      "Recall: 0.826530612244898\n",
      "F1 Score: 0.8663101604278074\n"
     ]
    }
   ],
   "source": [
    "# Filter down to fraud-only transactions\n",
    "NewX_test = X_test.copy()\n",
    "NewX_test[\"Class\"] = y_test\n",
    "fraud_only = NewX_test[NewX_test[\"Class\"] == 1]\n",
    "\n",
    "X_fraud = fraud_only.drop(\"Class\", axis=1)\n",
    "y_fraud = fraud_only[\"Class\"]\n",
    "\n",
    "print(X_fraud.head(), y_fraud.head())\n",
    "\n",
    "# Predictions on fraud-only subset\n",
    "y_pred_fraud = model.predict(X_fraud)\n",
    "\n",
    "#Finding the accuracy given that all test case presented was fraudulent\n",
    "print(\"Fraud-only detection rate:\", metrics.accuracy_score(y_fraud, y_pred_fraud) * 100, \"%\")\n",
    "\n",
    "from sklearn.metrics import precision_score, recall_score, f1_score\n",
    "\n",
    "print(\"Precision:\", precision_score(y_test, y_pred))\n",
    "print(\"Recall:\", recall_score(y_test, y_pred))  # same as fraud-only accuracy\n",
    "print(\"F1 Score:\", f1_score(y_test, y_pred))\n"
   ]
  },
  {
   "cell_type": "code",
   "execution_count": 6,
   "id": "2252e622",
   "metadata": {
    "execution": {
     "iopub.execute_input": "2025-09-04T02:25:08.363158Z",
     "iopub.status.busy": "2025-09-04T02:25:08.362796Z",
     "iopub.status.idle": "2025-09-04T02:25:08.715541Z",
     "shell.execute_reply": "2025-09-04T02:25:08.714472Z"
    },
    "papermill": {
     "duration": 0.358581,
     "end_time": "2025-09-04T02:25:08.717103",
     "exception": false,
     "start_time": "2025-09-04T02:25:08.358522",
     "status": "completed"
    },
    "tags": []
   },
   "outputs": [
    {
     "data": {
      "image/png": "[encoded data removed]",
      "text/plain": [
       "<Figure size 800x600 with 1 Axes>"
      ]
     },
     "metadata": {},
     "output_type": "display_data"
    }
   ],
   "source": [
    "from sklearn.metrics import precision_recall_curve\n",
    "import matplotlib.pyplot as plt\n",
    "\n",
    "# Get predicted probabilities for the positive class\n",
    "y_pred_proba = model.predict_proba(X_test)[:, 1]\n",
    "\n",
    "# Compute precision, recall, thresholds\n",
    "precision, recall, thresholds = precision_recall_curve(y_test, y_pred_proba)\n",
    "\n",
    "# Plot\n",
    "plt.figure(figsize=(8,6))\n",
    "plt.plot(recall, precision, color='b', lw=2)\n",
    "plt.xlabel(\"Recall\")\n",
    "plt.ylabel(\"Precision\")\n",
    "plt.title(\"Precision-Recall Curve\")\n",
    "plt.grid(True)\n",
    "plt.show()"
   ]
  },
  {
   "cell_type": "code",
   "execution_count": 7,
   "id": "484111c0",
   "metadata": {
    "execution": {
     "iopub.execute_input": "2025-09-04T02:25:08.725168Z",
     "iopub.status.busy": "2025-09-04T02:25:08.724876Z",
     "iopub.status.idle": "2025-09-04T02:25:09.596387Z",
     "shell.execute_reply": "2025-09-04T02:25:09.595408Z"
    },
    "papermill": {
     "duration": 0.877482,
     "end_time": "2025-09-04T02:25:09.598130",
     "exception": false,
     "start_time": "2025-09-04T02:25:08.720648",
     "status": "completed"
    },
    "tags": []
   },
   "outputs": [
    {
     "data": {
      "image/png": "[encoded data removed]",
      "text/plain": [
       "<Figure size 1000x600 with 1 Axes>"
      ]
     },
     "metadata": {},
     "output_type": "display_data"
    }
   ],
   "source": [
    "import matplotlib.pyplot as plt\n",
    "from sklearn.metrics import precision_recall_curve, f1_score, make_scorer\n",
    "\n",
    "# Get predicted probabilities for the positive class\n",
    "y_pred_proba = model.predict_proba(X_test)[:, 1]\n",
    "y_true = y_test.values\n",
    "\n",
    "# Compute precision, recall, thresholds\n",
    "precision, recall, thresholds = precision_recall_curve(y_true, y_pred_proba)\n",
    "\n",
    "# Sample thresholds to speed up plotting (every 50th point)\n",
    "thresholds_sampled = thresholds[::50]\n",
    "\n",
    "# Compute F1 for sampled thresholds\n",
    "f1_scores = []\n",
    "for t in thresholds_sampled:\n",
    "    y_pred_thresh = (y_pred_proba >= t).astype(int)\n",
    "    tp = np.sum((y_pred_thresh == 1) & (y_true == 1))\n",
    "    fp = np.sum((y_pred_thresh == 1) & (y_true == 0))\n",
    "    fn = np.sum((y_pred_thresh == 0) & (y_true == 1))\n",
    "    f1 = 2 * tp / (2 * tp + fp + fn) if (2*tp + fp + fn) != 0 else 0\n",
    "    f1_scores.append(f1)\n",
    "\n",
    "# Plot Precision, Recall, and F1 vs Threshold\n",
    "plt.figure(figsize=(10,6))\n",
    "plt.plot(thresholds_sampled, f1_scores, label=\"F1 Score\", color=\"green\", lw=2)\n",
    "plt.plot(thresholds_sampled, [precision[np.searchsorted(thresholds, t)] for t in thresholds_sampled],\n",
    "         label=\"Precision\", color=\"blue\", lw=2)\n",
    "plt.plot(thresholds_sampled, [recall[np.searchsorted(thresholds, t)] for t in thresholds_sampled],\n",
    "         label=\"Recall\", color=\"red\", lw=2)\n",
    "\n",
    "plt.xlabel(\"Classification Threshold\")\n",
    "plt.ylabel(\"Score\")\n",
    "plt.title(\"Precision, Recall, and F1 vs Threshold\")\n",
    "plt.legend()\n",
    "plt.grid(True)\n",
    "plt.show()"
   ]
  },
  {
   "cell_type": "code",
   "execution_count": 8,
   "id": "c22451b4",
   "metadata": {
    "execution": {
     "iopub.execute_input": "2025-09-04T02:25:09.607826Z",
     "iopub.status.busy": "2025-09-04T02:25:09.607473Z",
     "iopub.status.idle": "2025-09-04T02:25:24.250668Z",
     "shell.execute_reply": "2025-09-04T02:25:24.249625Z"
    },
    "papermill": {
     "duration": 14.649788,
     "end_time": "2025-09-04T02:25:24.252208",
     "exception": false,
     "start_time": "2025-09-04T02:25:09.602420",
     "status": "completed"
    },
    "tags": []
   },
   "outputs": [
    {
     "name": "stdout",
     "output_type": "stream",
     "text": [
      "F1 scores for each fold: [0.83248731 0.91891892 0.89010989 0.84782609 0.84375   ]\n",
      "Average F1 score: 0.8666184411260002\n"
     ]
    }
   ],
   "source": [
    "# 5-fold stratified CV\n",
    "skf = StratifiedKFold(n_splits=5, shuffle=True, random_state=42)\n",
    "f1_scorer = make_scorer(f1_score)\n",
    "scores = cross_val_score(model, X, y, cv=skf, scoring=f1_scorer)\n",
    "print(\"F1 scores for each fold:\", scores)\n",
    "print(\"Average F1 score:\", scores.mean())"
   ]
  }
 ],
 "metadata": {
  "kaggle": {
   "accelerator": "none",
   "dataSources": [
    {
     "datasetId": 310,
     "sourceId": 23498,
     "sourceType": "datasetVersion"
    }
   ],
   "dockerImageVersionId": 31089,
   "isGpuEnabled": false,
   "isInternetEnabled": true,
   "language": "python",
   "sourceType": "notebook"
  },
  "kernelspec": {
   "display_name": "Python 3",
   "language": "python",
   "name": "python3"
  },
  "language_info": {
   "codemirror_mode": {
    "name": "ipython",
    "version": 3
   },
   "file_extension": ".py",
   "mimetype": "text/x-python",
   "name": "python",
   "nbconvert_exporter": "python",
   "pygments_lexer": "ipython3",
   "version": "3.11.13"
  },
  "papermill": {
   "default_parameters": {},
   "duration": 33.119271,
   "end_time": "2025-09-04T02:25:24.875940",
   "environment_variables": {},
   "exception": null,
   "input_path": "__notebook__.ipynb",
   "output_path": "__notebook__.ipynb",
   "parameters": {},
   "start_time": "2025-09-04T02:24:51.756669",
   "version": "2.6.0"
  }
 },
 "nbformat": 4,
 "nbformat_minor": 5
}
