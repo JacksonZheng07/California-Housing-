{
  "nbformat": 4,
  "nbformat_minor": 0,
  "metadata": {
    "colab": {
      "provenance": []
    },
    "kernelspec": {
      "name": "python3",
      "display_name": "Python 3"
    },
    "language_info": {
      "name": "python"
    }
  },
  "cells": [
    {
      "cell_type": "code",
      "execution_count": 74,
      "metadata": {
        "id": "viezYYr4mkzA"
      },
      "outputs": [],
      "source": [
        "import numpy as np\n",
        "import torch\n",
        "import torch.nn as nn\n",
        "from sklearn import datasets\n",
        "from sklearn.model_selection import train_test_split\n",
        "import matplotlib.pyplot as plt\n",
        "\n",
        "#Creating a Data Set Using SKlearn\n",
        "X, y = datasets.make_regression(n_samples=100, n_features=1, noise=20, random_state=1)\n",
        "\n",
        "#Spliting data between training and testing\n",
        "X_train, X_test, y_train, y_test = train_test_split(X, y, test_size=20, random_state=20)\n",
        "\n",
        "#Changing datatype to float32\n",
        "X_train = torch.from_numpy(X_train.astype(np.float32))\n",
        "y_train = torch.from_numpy(y_train.astype(np.float32))\n",
        "y_train = y_train.view(y_train.shape[0], 1)"
      ]
    },
    {
      "cell_type": "code",
      "source": [
        "#Model Setup\n",
        "n_sample, n_features = X.shape\n",
        "input_size = n_features\n",
        "output_size = 1\n",
        "model = nn.Linear(input_size, output_size)"
      ],
      "metadata": {
        "id": "RXNh_Gzhn-Zj"
      },
      "execution_count": 75,
      "outputs": []
    },
    {
      "cell_type": "code",
      "source": [
        "#Loss and Optimization\n",
        "lr= 0.01\n",
        "criteron = nn.MSELoss()\n",
        "optimizer = torch.optim.SGD(model.parameters(), lr=lr)\n",
        "epochs = 1000"
      ],
      "metadata": {
        "id": "nbLl25VPqTxk"
      },
      "execution_count": 76,
      "outputs": []
    },
    {
      "cell_type": "code",
      "source": [
        "#Looping\n",
        "for epoch in range(epochs):\n",
        "  #Zeroing\n",
        "  optimizer.zero_grad()\n",
        "\n",
        "  y_pred = model(X_train)\n",
        "  loss = criteron(y_pred, y_train)\n",
        "\n",
        "  #Back prop\n",
        "  loss.backward()\n",
        "\n",
        "  #Updating\n",
        "  optimizer.step()\n",
        "\n",
        "  if (epoch+1) % 10 == 0:\n",
        "    print(f'epoch: {epoch+1}, loss = {loss.item():.4f}')\n",
        "\n",
        "predicted = model(X_train).detach().numpy()\n",
        "plt.plot(X_train, y_train, 'ro')\n",
        "plt.plot(X_train, predicted, 'b')\n",
        "plt.show()"
      ],
      "metadata": {
        "colab": {
          "base_uri": "https://localhost:8080/",
          "height": 1000
        },
        "id": "YnMp8ZNMsAHi",
        "outputId": "6d2aa373-bfc6-4fe8-be09-de8a58f3f21a"
      },
      "execution_count": 77,
      "outputs": [
        {
          "output_type": "stream",
          "name": "stdout",
          "text": [
            "epoch: 10, loss = 4527.4746\n",
            "epoch: 20, loss = 3342.7485\n",
            "epoch: 30, loss = 2502.6313\n",
            "epoch: 40, loss = 1904.4528\n",
            "epoch: 50, loss = 1476.8817\n",
            "epoch: 60, loss = 1170.1331\n",
            "epoch: 70, loss = 949.3043\n",
            "epoch: 80, loss = 789.8164\n",
            "epoch: 90, loss = 674.2863\n",
            "epoch: 100, loss = 590.3677\n",
            "epoch: 110, loss = 529.2573\n",
            "epoch: 120, loss = 484.6538\n",
            "epoch: 130, loss = 452.0305\n",
            "epoch: 140, loss = 428.1244\n",
            "epoch: 150, loss = 410.5764\n",
            "epoch: 160, loss = 397.6759\n",
            "epoch: 170, loss = 388.1794\n",
            "epoch: 180, loss = 381.1799\n",
            "epoch: 190, loss = 376.0155\n",
            "epoch: 200, loss = 372.2012\n",
            "epoch: 210, loss = 369.3817\n",
            "epoch: 220, loss = 367.2961\n",
            "epoch: 230, loss = 365.7523\n",
            "epoch: 240, loss = 364.6088\n",
            "epoch: 250, loss = 363.7614\n",
            "epoch: 260, loss = 363.1332\n",
            "epoch: 270, loss = 362.6673\n",
            "epoch: 280, loss = 362.3216\n",
            "epoch: 290, loss = 362.0650\n",
            "epoch: 300, loss = 361.8745\n",
            "epoch: 310, loss = 361.7331\n",
            "epoch: 320, loss = 361.6281\n",
            "epoch: 330, loss = 361.5500\n",
            "epoch: 340, loss = 361.4920\n",
            "epoch: 350, loss = 361.4489\n",
            "epoch: 360, loss = 361.4169\n",
            "epoch: 370, loss = 361.3931\n",
            "epoch: 380, loss = 361.3754\n",
            "epoch: 390, loss = 361.3623\n",
            "epoch: 400, loss = 361.3525\n",
            "epoch: 410, loss = 361.3452\n",
            "epoch: 420, loss = 361.3398\n",
            "epoch: 430, loss = 361.3358\n",
            "epoch: 440, loss = 361.3329\n",
            "epoch: 450, loss = 361.3306\n",
            "epoch: 460, loss = 361.3290\n",
            "epoch: 470, loss = 361.3278\n",
            "epoch: 480, loss = 361.3268\n",
            "epoch: 490, loss = 361.3261\n",
            "epoch: 500, loss = 361.3257\n",
            "epoch: 510, loss = 361.3253\n",
            "epoch: 520, loss = 361.3250\n",
            "epoch: 530, loss = 361.3248\n",
            "epoch: 540, loss = 361.3246\n",
            "epoch: 550, loss = 361.3245\n",
            "epoch: 560, loss = 361.3244\n",
            "epoch: 570, loss = 361.3244\n",
            "epoch: 580, loss = 361.3243\n",
            "epoch: 590, loss = 361.3242\n",
            "epoch: 600, loss = 361.3242\n",
            "epoch: 610, loss = 361.3242\n",
            "epoch: 620, loss = 361.3243\n",
            "epoch: 630, loss = 361.3242\n",
            "epoch: 640, loss = 361.3242\n",
            "epoch: 650, loss = 361.3242\n",
            "epoch: 660, loss = 361.3242\n",
            "epoch: 670, loss = 361.3242\n",
            "epoch: 680, loss = 361.3242\n",
            "epoch: 690, loss = 361.3242\n",
            "epoch: 700, loss = 361.3242\n",
            "epoch: 710, loss = 361.3242\n",
            "epoch: 720, loss = 361.3242\n",
            "epoch: 730, loss = 361.3242\n",
            "epoch: 740, loss = 361.3242\n",
            "epoch: 750, loss = 361.3242\n",
            "epoch: 760, loss = 361.3242\n",
            "epoch: 770, loss = 361.3242\n",
            "epoch: 780, loss = 361.3242\n",
            "epoch: 790, loss = 361.3242\n",
            "epoch: 800, loss = 361.3242\n",
            "epoch: 810, loss = 361.3242\n",
            "epoch: 820, loss = 361.3242\n",
            "epoch: 830, loss = 361.3242\n",
            "epoch: 840, loss = 361.3242\n",
            "epoch: 850, loss = 361.3242\n",
            "epoch: 860, loss = 361.3242\n",
            "epoch: 870, loss = 361.3242\n",
            "epoch: 880, loss = 361.3242\n",
            "epoch: 890, loss = 361.3242\n",
            "epoch: 900, loss = 361.3242\n",
            "epoch: 910, loss = 361.3242\n",
            "epoch: 920, loss = 361.3242\n",
            "epoch: 930, loss = 361.3242\n",
            "epoch: 940, loss = 361.3242\n",
            "epoch: 950, loss = 361.3242\n",
            "epoch: 960, loss = 361.3242\n",
            "epoch: 970, loss = 361.3242\n",
            "epoch: 980, loss = 361.3242\n",
            "epoch: 990, loss = 361.3242\n",
            "epoch: 1000, loss = 361.3242\n"
          ]
        },
        {
          "output_type": "display_data",
          "data": {
            "text/plain": [
              "<Figure size 640x480 with 1 Axes>"
            ],
            "image/png": "[encoded data removed]"
          },
          "metadata": {}
        }
      ]
    }
  ]
}